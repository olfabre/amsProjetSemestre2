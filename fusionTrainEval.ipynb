{
  "cells": [
    {
      "cell_type": "markdown",
      "metadata": {
        "id": "view-in-github",
        "colab_type": "text"
      },
      "source": [
        "<a href=\"https://colab.research.google.com/github/olfabre/amsProjetSemestre2/blob/main/fusionTrainEval.ipynb\" target=\"_parent\"><img src=\"https://colab.research.google.com/assets/colab-badge.svg\" alt=\"Open In Colab\"/></a>"
      ]
    },
    {
      "cell_type": "code",
      "source": [
        "# Script pour merger les deux fichiers\n",
        "\n",
        "\n",
        "# Définition des chemins des fichiers\n",
        "eval_file = \"eval.txt\"\n",
        "train_file = \"train.txt\"\n",
        "corpus_file = \"corpus.txt\"\n",
        "\n",
        "# Lecture des fichiers et écriture dans corpus.txt\n",
        "with open(corpus_file, \"w\", encoding=\"utf-8\") as corpus:\n",
        "    for file in [train_file, eval_file]:\n",
        "        with open(file, \"r\", encoding=\"utf-8\") as f:\n",
        "            corpus.write(f.read() + \"\\n\")  # Ajout d'une nouvelle ligne entre les fichiers\n",
        "\n",
        "print(f\"Le fichier {corpus_file} a été généré avec succès.\")\n"
      ],
      "metadata": {
        "id": "w0fFmitrbOmP",
        "outputId": "dedf1572-0d43-4ef7-832e-86a33ac68bdb",
        "colab": {
          "base_uri": "https://localhost:8080/"
        }
      },
      "execution_count": 2,
      "outputs": [
        {
          "output_type": "stream",
          "name": "stdout",
          "text": [
            "Le fichier corpus.txt a été généré avec succès.\n"
          ]
        }
      ]
    },
    {
      "cell_type": "code",
      "source": [
        "# Script qui fusionne les fichiers eval.txt et train.txt, supprime les \\ en fin de ligne, mélange les lignes de façon aléatoire et écrit le tout dans corpus.txt\n",
        "\n",
        "import random\n",
        "\n",
        "# Définition des chemins des fichiers\n",
        "eval_file = \"eval.txt\"\n",
        "train_file = \"train.txt\"\n",
        "corpus_file = \"corpus2.txt\"\n",
        "\n",
        "# Lire les fichiers et stocker les lignes\n",
        "lines = []\n",
        "for file in [train_file, eval_file]:\n",
        "    with open(file, \"r\", encoding=\"utf-8\") as f:\n",
        "        for line in f:\n",
        "            cleaned_line = line.rstrip()  # Supprime les espaces et le '\\n' à la fin\n",
        "            if cleaned_line.endswith(\"\\\\\"):  # Vérifier si la ligne se termine par '\\'\n",
        "                cleaned_line = cleaned_line[:-1]  # Supprimer le dernier caractère '\\'\n",
        "            lines.append(cleaned_line)\n",
        "\n",
        "# Mélanger les lignes aléatoirement\n",
        "random.shuffle(lines)\n",
        "\n",
        "# Écriture dans corpus.txt\n",
        "with open(corpus_file, \"w\", encoding=\"utf-8\") as corpus:\n",
        "    corpus.write(\"\\n\".join(lines) + \"\\n\")  # Ajout d'un retour à la ligne à la fin\n",
        "\n",
        "print(f\"Le fichier {corpus_file} a été généré avec succès avec les lignes mélangées et nettoyées.\")\n"
      ],
      "metadata": {
        "id": "tQD1agAydaMF",
        "outputId": "4f3ebc7f-c668-4301-e937-63808d2ab50a",
        "colab": {
          "base_uri": "https://localhost:8080/"
        }
      },
      "execution_count": 4,
      "outputs": [
        {
          "output_type": "stream",
          "name": "stdout",
          "text": [
            "Le fichier corpus2.txt a été généré avec succès avec les lignes mélangées et nettoyées.\n"
          ]
        }
      ]
    },
    {
      "cell_type": "code",
      "source": [],
      "metadata": {
        "id": "xvx5v6EUeZS4"
      },
      "execution_count": null,
      "outputs": []
    }
  ],
  "metadata": {
    "colab": {
      "name": "Bienvenue dans Colaboratory",
      "provenance": [],
      "include_colab_link": true
    },
    "kernelspec": {
      "display_name": "Python 3",
      "name": "python3"
    }
  },
  "nbformat": 4,
  "nbformat_minor": 0
}
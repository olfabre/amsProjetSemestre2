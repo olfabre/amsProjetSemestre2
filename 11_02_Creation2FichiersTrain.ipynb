{
  "cells": [
    {
      "cell_type": "markdown",
      "metadata": {
        "id": "view-in-github",
        "colab_type": "text"
      },
      "source": [
        "<a href=\"https://colab.research.google.com/github/olfabre/amsProjetSemestre2/blob/main/11_02_Creation2FichiersTrain.ipynb\" target=\"_parent\"><img src=\"https://colab.research.google.com/assets/colab-badge.svg\" alt=\"Open In Colab\"/></a>"
      ]
    },
    {
      "cell_type": "code",
      "source": [
        "input_file = \"train2.txt\"\n",
        "output_file = \"train_6_11.txt\"\n",
        "\n",
        "# Lire et filtrer les lignes\n",
        "with open(input_file, \"r\", encoding=\"utf-8\") as infile, open(output_file, \"w\", encoding=\"utf-8\") as outfile:\n",
        "    for line in infile:\n",
        "        word = line.strip()  # Supprimer les espaces et sauts de ligne\n",
        "        if 6 <= len(word) <= 11:\n",
        "            outfile.write(word + \"\\n\")\n",
        "\n",
        "print(f\"Le fichier {output_file} a été généré avec succès.\")\n"
      ],
      "metadata": {
        "colab": {
          "base_uri": "https://localhost:8080/"
        },
        "id": "qjOQZOpspGXw",
        "outputId": "53748c53-70dd-4920-9537-42d0a5a7b163"
      },
      "execution_count": 2,
      "outputs": [
        {
          "output_type": "stream",
          "name": "stdout",
          "text": [
            "Le fichier train_6_11.txt a été généré avec succès.\n"
          ]
        }
      ]
    },
    {
      "cell_type": "code",
      "source": [
        "input_file = \"train2.txt\"\n",
        "output_file = \"train_5_12.txt\"\n",
        "\n",
        "# Lire et filtrer les lignes\n",
        "with open(input_file, \"r\", encoding=\"utf-8\") as infile, open(output_file, \"w\", encoding=\"utf-8\") as outfile:\n",
        "    for line in infile:\n",
        "        word = line.strip()  # Supprimer les espaces et sauts de ligne\n",
        "        if 5 <= len(word) <= 12:\n",
        "            outfile.write(word + \"\\n\")\n",
        "\n",
        "print(f\"Le fichier {output_file} a été généré avec succès.\")\n"
      ],
      "metadata": {
        "id": "aUpdRALD0dd9",
        "outputId": "8a2a551c-fbac-4d34-c520-54bb44c24d8a",
        "colab": {
          "base_uri": "https://localhost:8080/"
        }
      },
      "execution_count": 3,
      "outputs": [
        {
          "output_type": "stream",
          "name": "stdout",
          "text": [
            "Le fichier train_5_12.txt a été généré avec succès.\n"
          ]
        }
      ]
    }
  ],
  "metadata": {
    "colab": {
      "name": "TensorFlow with GPU",
      "provenance": [],
      "include_colab_link": true
    },
    "kernelspec": {
      "display_name": "Python 3",
      "name": "python3"
    }
  },
  "nbformat": 4,
  "nbformat_minor": 0
}
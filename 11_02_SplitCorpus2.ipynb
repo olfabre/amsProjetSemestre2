{
  "cells": [
    {
      "cell_type": "markdown",
      "metadata": {
        "id": "view-in-github",
        "colab_type": "text"
      },
      "source": [
        "<a href=\"https://colab.research.google.com/github/olfabre/amsProjetSemestre2/blob/main/11_02_SplitCorpus2.ipynb\" target=\"_parent\"><img src=\"https://colab.research.google.com/assets/colab-badge.svg\" alt=\"Open In Colab\"/></a>"
      ]
    },
    {
      "cell_type": "code",
      "source": [
        "# Script pour spliter le fichier corpus2.txt en 3 fichiers respectifs 70% Train2.txt, 20% validation2.txt, 10% test2.txt\n",
        "import random\n",
        "\n",
        "# Définir les noms des fichiers\n",
        "input_file = \"corpus2.txt\"\n",
        "train_file = \"train2.txt\"\n",
        "validation_file = \"validation2.txt\"\n",
        "test_file = \"test2.txt\"\n",
        "\n",
        "# Lire toutes les lignes du fichier\n",
        "with open(input_file, \"r\", encoding=\"utf-8\") as f:\n",
        "    lines = f.readlines()\n",
        "\n",
        "# Mélanger aléatoirement les lignes pour éviter un biais\n",
        "random.shuffle(lines)\n",
        "\n",
        "# Déterminer les tailles des splits\n",
        "total_lines = len(lines)\n",
        "train_size = int(0.7 * total_lines)\n",
        "validation_size = int(0.2 * total_lines)\n",
        "test_size = total_lines - train_size - validation_size  # Assurer la somme = 100%\n",
        "\n",
        "# Faire la répartition\n",
        "train_lines = lines[:train_size]\n",
        "validation_lines = lines[train_size:train_size + validation_size]\n",
        "test_lines = lines[train_size + validation_size:]\n",
        "\n",
        "# Sauvegarder les fichiers\n",
        "with open(train_file, \"w\", encoding=\"utf-8\") as f:\n",
        "    f.writelines(train_lines)\n",
        "\n",
        "with open(validation_file, \"w\", encoding=\"utf-8\") as f:\n",
        "    f.writelines(validation_lines)\n",
        "\n",
        "with open(test_file, \"w\", encoding=\"utf-8\") as f:\n",
        "    f.writelines(test_lines)\n",
        "\n",
        "print(f\"Fichiers générés :\\n- {train_file} ({train_size} lignes)\\n- {validation_file} ({validation_size} lignes)\\n- {test_file} ({test_size} lignes)\")\n"
      ],
      "metadata": {
        "id": "qjOQZOpspGXw",
        "outputId": "1a791df9-7850-4213-ddb2-7aac06deaac6",
        "colab": {
          "base_uri": "https://localhost:8080/"
        }
      },
      "execution_count": 1,
      "outputs": [
        {
          "output_type": "stream",
          "name": "stdout",
          "text": [
            "Fichiers générés :\n",
            "- train2.txt (264496 lignes)\n",
            "- validation2.txt (75570 lignes)\n",
            "- test2.txt (37786 lignes)\n"
          ]
        }
      ]
    }
  ],
  "metadata": {
    "colab": {
      "name": "TensorFlow with GPU",
      "provenance": [],
      "include_colab_link": true
    },
    "kernelspec": {
      "display_name": "Python 3",
      "name": "python3"
    }
  },
  "nbformat": 4,
  "nbformat_minor": 0
}
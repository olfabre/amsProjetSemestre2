{
  "cells": [
    {
      "cell_type": "markdown",
      "metadata": {
        "id": "view-in-github",
        "colab_type": "text"
      },
      "source": [
        "<a href=\"https://colab.research.google.com/github/olfabre/amsProjetSemestre2/blob/main/1_02_CreationFichierTrainSansSpec.ipynb\" target=\"_parent\"><img src=\"https://colab.research.google.com/assets/colab-badge.svg\" alt=\"Open In Colab\"/></a>"
      ]
    },
    {
      "cell_type": "code",
      "source": [
        "import re\n",
        "\n",
        "input_file = \"train2.txt\"\n",
        "output_file = \"train_sans-spec.txt\"\n",
        "\n",
        "# Expression régulière pour ne conserver que les mots avec lettres et chiffres uniquement\n",
        "pattern = re.compile(r'^[a-zA-Z0-9]+$')\n",
        "\n",
        "# Lire et filtrer les lignes\n",
        "with open(input_file, \"r\", encoding=\"utf-8\") as infile, open(output_file, \"w\", encoding=\"utf-8\") as outfile:\n",
        "    for line in infile:\n",
        "        word = line.strip()  # Supprimer les espaces et sauts de ligne\n",
        "        if pattern.match(word):  # Vérifier si le mot ne contient que lettres et chiffres\n",
        "            outfile.write(word + \"\\n\")\n",
        "\n",
        "print(f\"Le fichier {output_file} a été généré avec succès.\")\n"
      ],
      "metadata": {
        "id": "45JArezG2x8S",
        "outputId": "f8f94f4c-2d8a-4886-8bb9-843975934d53",
        "colab": {
          "base_uri": "https://localhost:8080/"
        }
      },
      "execution_count": 4,
      "outputs": [
        {
          "output_type": "stream",
          "name": "stdout",
          "text": [
            "Le fichier train_sans-spec.txt a été généré avec succès.\n"
          ]
        }
      ]
    }
  ],
  "metadata": {
    "colab": {
      "name": "TensorFlow with GPU",
      "provenance": [],
      "include_colab_link": true
    },
    "kernelspec": {
      "display_name": "Python 3",
      "name": "python3"
    }
  },
  "nbformat": 4,
  "nbformat_minor": 0
}
